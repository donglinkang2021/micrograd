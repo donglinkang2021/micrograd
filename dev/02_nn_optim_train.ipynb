{
 "cells": [
  {
   "cell_type": "code",
   "execution_count": 1,
   "metadata": {},
   "outputs": [],
   "source": [
    "import micrograd.nn as nn\n",
    "class MLP(nn.Module):\n",
    "    def __init__(self, input_dim:int, hidden_dim:int, output_dim:int):\n",
    "        super().__init__()\n",
    "        self.fc1 = nn.Linear(input_dim, hidden_dim)\n",
    "        self.fc2 = nn.Linear(hidden_dim, hidden_dim)\n",
    "        self.fc3 = nn.Linear(hidden_dim, output_dim)\n",
    "        self.relu = nn.ReLU()\n",
    "\n",
    "    def forward(self, x):\n",
    "        x = self.relu(self.fc1(x))\n",
    "        x = self.relu(self.fc2(x))\n",
    "        return self.fc3(x)\n",
    "    \n",
    "    def parameters(self):\n",
    "        return self.fc1.parameters() + self.fc2.parameters() + self.fc3.parameters()"
   ]
  },
  {
   "cell_type": "code",
   "execution_count": 32,
   "metadata": {},
   "outputs": [
    {
     "name": "stdout",
     "output_type": "stream",
     "text": [
      "Epoch 10, Loss Value(data=0.7703266925592134, grad=1.0)\n",
      "Epoch 20, Loss Value(data=0.3050415885638226, grad=1.0)\n",
      "Epoch 30, Loss Value(data=0.008369732043308343, grad=1.0)\n",
      "Epoch 40, Loss Value(data=0.007433181285642049, grad=1.0)\n",
      "Epoch 50, Loss Value(data=0.005917706357346278, grad=1.0)\n"
     ]
    }
   ],
   "source": [
    "from micrograd.optim import SGD, Adam\n",
    "xs = [\n",
    "    [2.0, 3.0, -1.0],\n",
    "    [3.0, -1.0, 0.5],\n",
    "    [0.5, 1.0, 1.0],\n",
    "    [1.0, 1.0, -1.0]\n",
    "]\n",
    "ys = [1.0, -1.0, -1.0, 1.0]\n",
    "\n",
    "model = MLP(3, 4, 1)\n",
    "criterion = nn.MSELoss()\n",
    "learning_rate = 5e-2\n",
    "optimizer = Adam(model.parameters(), lr=learning_rate)\n",
    "\n",
    "for epoch in range(50):\n",
    "    y_pred = [pred for x in xs for pred in model(x)]\n",
    "    loss = criterion(y_pred, ys)\n",
    "    optimizer.zero_grad()\n",
    "    loss.backward()\n",
    "    optimizer.step()\n",
    "    if (epoch+1) % 10 == 0:\n",
    "        print(f\"Epoch {epoch+1}, Loss {loss}\")"
   ]
  },
  {
   "cell_type": "code",
   "execution_count": 13,
   "metadata": {},
   "outputs": [
    {
     "data": {
      "text/plain": [
       "[Value(data=1.0036723325488108, grad=0.0),\n",
       " Value(data=-1.0007442184575015, grad=0.0),\n",
       " Value(data=-0.9998134802645916, grad=0.0),\n",
       " Value(data=1.0036723325488108, grad=0.0)]"
      ]
     },
     "execution_count": 13,
     "metadata": {},
     "output_type": "execute_result"
    }
   ],
   "source": [
    "[pred for x in xs for pred in model(x)]"
   ]
  }
 ],
 "metadata": {
  "kernelspec": {
   "display_name": "d2l",
   "language": "python",
   "name": "python3"
  },
  "language_info": {
   "codemirror_mode": {
    "name": "ipython",
    "version": 3
   },
   "file_extension": ".py",
   "mimetype": "text/x-python",
   "name": "python",
   "nbconvert_exporter": "python",
   "pygments_lexer": "ipython3",
   "version": "3.9.18"
  }
 },
 "nbformat": 4,
 "nbformat_minor": 2
}
